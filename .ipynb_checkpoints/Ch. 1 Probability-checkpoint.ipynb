{
 "cells": [
  {
   "cell_type": "code",
   "execution_count": 1,
   "metadata": {
    "collapsed": true
   },
   "outputs": [],
   "source": [
    "import numpy as np"
   ]
  },
  {
   "cell_type": "markdown",
   "metadata": {},
   "source": [
    "The probability of selling a car is 70% each day. What is the probability of selling cars two days in a row?"
   ]
  },
  {
   "cell_type": "code",
   "execution_count": 2,
   "metadata": {
    "collapsed": false
   },
   "outputs": [
    {
     "name": "stdout",
     "output_type": "stream",
     "text": [
      "0.49\n"
     ]
    }
   ],
   "source": [
    "day1 = .7\n",
    "day2 = .7\n",
    "\n",
    "print day1 * day2"
   ]
  },
  {
   "cell_type": "markdown",
   "metadata": {},
   "source": [
    "A dealership has one customer visit per day. What is the probability of a single foreign and a single domestic car being sold on consecutive days?."
   ]
  },
  {
   "cell_type": "code",
   "execution_count": 3,
   "metadata": {
    "collapsed": false
   },
   "outputs": [
    {
     "data": {
      "text/plain": [
       "0.31000000000000005"
      ]
     },
     "execution_count": 3,
     "metadata": {},
     "output_type": "execute_result"
    }
   ],
   "source": [
    "domestic = .4\n",
    "both = .1\n",
    "foreign = .2\n",
    "none = .3\n",
    "\n",
    "\n",
    "#probability of a customer purchasing both at the same time\n",
    "scenario1 = both\n",
    "\n",
    "#probability one car sold one day, no cars the other day\n",
    "scenario2 = domestic * (1 - day1) + foreign * (1 - day1)\n",
    "\n",
    "#pobability of just two cars being sold at the same time on day two\n",
    "scenario3 = both * (1 - day2)\n",
    "\n",
    "scenario1 + scenario2 + scenario3"
   ]
  },
  {
   "cell_type": "code",
   "execution_count": 4,
   "metadata": {
    "collapsed": false
   },
   "outputs": [
    {
     "data": {
      "text/plain": [
       "0.5"
      ]
     },
     "execution_count": 4,
     "metadata": {},
     "output_type": "execute_result"
    }
   ],
   "source": [
    "heads = .5\n",
    "tails = .5\n",
    "\n",
    "toss_h = heads\n",
    "toss_hh = heads * heads\n",
    "toss_t = tails\n",
    "toss_tt = tails * tails\n",
    "\n",
    "#probability of both tosses resulting in tails?\n",
    "1 - toss_hh - toss_tt"
   ]
  },
  {
   "cell_type": "code",
   "execution_count": 5,
   "metadata": {
    "collapsed": false
   },
   "outputs": [],
   "source": [
    "def probability_of_heads(heads, flips):    \n",
    "\n",
    "    flips_fact = np.math.factorial(flips)\n",
    "    heads_fact = np.math.factorial(heads)\n",
    "    tails_fact = np.math.factorial(flips - heads)\n",
    "    \n",
    "    prob = flips_fact / (heads_fact * tails_fact) * np.power(.5,flips) \n",
    "    \n",
    "    return prob"
   ]
  },
  {
   "cell_type": "code",
   "execution_count": 6,
   "metadata": {
    "collapsed": false,
    "scrolled": true
   },
   "outputs": [
    {
     "name": "stdout",
     "output_type": "stream",
     "text": [
      "The probability of 0 heads is 0.0009765625\n",
      "The probability of 1 heads is 0.009765625\n",
      "The probability of 2 heads is 0.0439453125\n",
      "The probability of 3 heads is 0.1171875\n",
      "The probability of 4 heads is 0.205078125\n",
      "The probability of 5 heads is 0.24609375\n",
      "The probability of 6 heads is 0.205078125\n",
      "The probability of 7 heads is 0.1171875\n",
      "The probability of 8 heads is 0.0439453125\n",
      "The probability of 9 heads is 0.009765625\n",
      "The probability of 10 heads is 0.0009765625\n"
     ]
    }
   ],
   "source": [
    "prob = {}\n",
    "flips = 10\n",
    "\n",
    "for x in range(flips + 1):\n",
    "    prob[x] = probability_of_heads(x,flips)\n",
    "    print \"The probability of %s heads is %s\" % (x, prob[x])\n"
   ]
  },
  {
   "cell_type": "code",
   "execution_count": 7,
   "metadata": {
    "collapsed": false
   },
   "outputs": [
    {
     "ename": "ImportError",
     "evalue": "No module named cufflinks",
     "output_type": "error",
     "traceback": [
      "\u001b[1;31m---------------------------------------------------------------------------\u001b[0m",
      "\u001b[1;31mImportError\u001b[0m                               Traceback (most recent call last)",
      "\u001b[1;32m<ipython-input-7-0da0c5538af3>\u001b[0m in \u001b[0;36m<module>\u001b[1;34m()\u001b[0m\n\u001b[1;32m----> 1\u001b[1;33m \u001b[1;32mimport\u001b[0m \u001b[0mcufflinks\u001b[0m \u001b[1;32mas\u001b[0m \u001b[0mcf\u001b[0m\u001b[1;33m\u001b[0m\u001b[0m\n\u001b[0m\u001b[0;32m      2\u001b[0m \u001b[1;33m\u001b[0m\u001b[0m\n\u001b[0;32m      3\u001b[0m \u001b[1;31m# Use these imports for offline development\u001b[0m\u001b[1;33m\u001b[0m\u001b[1;33m\u001b[0m\u001b[0m\n\u001b[0;32m      4\u001b[0m \u001b[1;32mimport\u001b[0m \u001b[0mplotly\u001b[0m\u001b[1;33m.\u001b[0m\u001b[0moffline\u001b[0m \u001b[1;32mas\u001b[0m \u001b[0mpy\u001b[0m\u001b[1;33m\u001b[0m\u001b[0m\n\u001b[0;32m      5\u001b[0m \u001b[0mpy\u001b[0m\u001b[1;33m.\u001b[0m\u001b[0minit_notebook_mode\u001b[0m\u001b[1;33m(\u001b[0m\u001b[1;33m)\u001b[0m\u001b[1;33m\u001b[0m\u001b[0m\n",
      "\u001b[1;31mImportError\u001b[0m: No module named cufflinks"
     ]
    }
   ],
   "source": [
    "import cufflinks as cf\n",
    "\n",
    "# Use these imports for offline development\n",
    "import plotly.offline as py\n",
    "py.init_notebook_mode() \n",
    "cf.go_offline()\n",
    "\n",
    "# Use these imports for online publishing\n",
    "#import plotly.plotly as py\n",
    "#cf.go_online()"
   ]
  },
  {
   "cell_type": "code",
   "execution_count": 8,
   "metadata": {
    "collapsed": false
   },
   "outputs": [
    {
     "data": {
      "text/html": [
       "<div id=\"dbc232a5-2626-4f82-b38f-e70753b5e330\" style=\"height: 375; width: 500px;\" class=\"plotly-graph-div\"></div><script type=\"text/javascript\">require([\"plotly\"], function(Plotly) { window.PLOTLYENV=window.PLOTLYENV || {};window.PLOTLYENV.BASE_URL=\"https://plot.ly\";Plotly.newPlot(\"dbc232a5-2626-4f82-b38f-e70753b5e330\", [{\"y\": [0.0009765625, 0.009765625, 0.0439453125, 0.1171875, 0.205078125, 0.24609375, 0.205078125, 0.1171875, 0.0439453125, 0.009765625, 0.0009765625], \"x\": [0, 1, 2, 3, 4, 5, 6, 7, 8, 9, 10], \"type\": \"bar\"}], {\"width\": 500, \"autosize\": false, \"height\": 375, \"xaxis\": {\"title\": \"number of heads\"}, \"title\": \"probability of heads coin flip\"}, {\"linkText\": \"Export to plot.ly\", \"showLink\": false})});</script>"
      ],
      "text/plain": [
       "<IPython.core.display.HTML object>"
      ]
     },
     "metadata": {},
     "output_type": "display_data"
    }
   ],
   "source": [
    "import plotly.graph_objs as go\n",
    "\n",
    "data = [go.Bar(\n",
    "            x=prob.keys(),\n",
    "            y=prob.values())]\n",
    "\n",
    "layout = go.Layout(autosize=False,\n",
    "    width=500,\n",
    "    height=375,\n",
    "    title='probability of heads coin flip',\n",
    "    xaxis=dict(title='number of heads'))\n",
    "\n",
    "fig = go.Figure(data=data, layout=layout)\n",
    "py.iplot(fig, show_link=False)"
   ]
  },
  {
   "cell_type": "code",
   "execution_count": 9,
   "metadata": {
    "collapsed": false
   },
   "outputs": [
    {
     "data": {
      "image/png": "[encoded data removed]",
      "text/plain": [
       "<matplotlib.figure.Figure at 0xa8225f8>"
      ]
     },
     "metadata": {},
     "output_type": "display_data"
    }
   ],
   "source": [
    "import matplotlib.pyplot as plt\n",
    "#import plotly.plotly as py\n",
    "%matplotlib inline\n",
    "\n",
    "fig, ax = plt.subplots()\n",
    "\n",
    "plt.bar(prob.keys(),prob.values(),color=(31./255, 119./255, 180./255), linewidth=0)\n",
    "plt.xticks(range(len(prob)), prob.keys())\n",
    "plt.xlabel('number of heads')\n",
    "plt.title('probability of heads coin flips')\n",
    "ax.spines['top'].set_visible(False)\n",
    "ax.spines['right'].set_visible(False)\n",
    "ax.xaxis.set_ticks_position('bottom')\n",
    "ax.yaxis.set_ticks_position('left')\n",
    "\n",
    "plt.show()"
   ]
  },
  {
   "cell_type": "code",
   "execution_count": null,
   "metadata": {
    "collapsed": true
   },
   "outputs": [],
   "source": []
  }
 ],
 "metadata": {
  "kernelspec": {
   "display_name": "Python 2",
   "language": "python",
   "name": "python2"
  },
  "language_info": {
   "codemirror_mode": {
    "name": "ipython",
    "version": 2
   },
   "file_extension": ".py",
   "mimetype": "text/x-python",
   "name": "python",
   "nbconvert_exporter": "python",
   "pygments_lexer": "ipython2",
   "version": "2.7.11"
  }
 },
 "nbformat": 4,
 "nbformat_minor": 0
}
