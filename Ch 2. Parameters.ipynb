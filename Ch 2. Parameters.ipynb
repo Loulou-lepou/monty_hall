{
 "cells": [
  {
   "cell_type": "code",
   "execution_count": 7,
   "metadata": {
    "collapsed": true
   },
   "outputs": [],
   "source": [
    "import numpy as np"
   ]
  },
  {
   "cell_type": "code",
   "execution_count": 14,
   "metadata": {
    "collapsed": true
   },
   "outputs": [],
   "source": [
    "data1 = [-1.,0,1]\n",
    "data2 = [-1.,0,100]"
   ]
  },
  {
   "cell_type": "code",
   "execution_count": 19,
   "metadata": {
    "collapsed": false
   },
   "outputs": [
    {
     "name": "stdout",
     "output_type": "stream",
     "text": [
      "the mean of dataa 1 is 0.0\n",
      "the mean of dataa 2 is 33.0\n",
      "the mean of dataa 1 is 0.0\n",
      "the mean of dataa 2 is 0.0\n"
     ]
    }
   ],
   "source": [
    "print \"the mean of dataa 1 is %r\" % np.mean(data1)\n",
    "print \"the mean of dataa 2 is %r\" % np.mean(data2)\n",
    "print \"the mean of dataa 1 is %r\" % np.median(data1)\n",
    "print \"the mean of dataa 2 is %r\" % np.median(data2)"
   ]
  },
  {
   "cell_type": "code",
   "execution_count": null,
   "metadata": {
    "collapsed": true
   },
   "outputs": [],
   "source": []
  }
 ],
 "metadata": {
  "kernelspec": {
   "display_name": "Python 2",
   "language": "python",
   "name": "python2"
  },
  "language_info": {
   "codemirror_mode": {
    "name": "ipython",
    "version": 2
   },
   "file_extension": ".py",
   "mimetype": "text/x-python",
   "name": "python",
   "nbconvert_exporter": "python",
   "pygments_lexer": "ipython2",
   "version": "2.7.11"
  }
 },
 "nbformat": 4,
 "nbformat_minor": 0
}
